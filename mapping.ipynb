{
 "metadata": {
  "language_info": {
   "codemirror_mode": {
    "name": "ipython",
    "version": 3
   },
   "file_extension": ".py",
   "mimetype": "text/x-python",
   "name": "python",
   "nbconvert_exporter": "python",
   "pygments_lexer": "ipython3",
   "version": "3.7.8"
  },
  "orig_nbformat": 2,
  "kernelspec": {
   "name": "python3",
   "display_name": "Python 3",
   "language": "python"
  }
 },
 "nbformat": 4,
 "nbformat_minor": 2,
 "cells": [
  {
   "cell_type": "code",
   "execution_count": 1,
   "metadata": {},
   "outputs": [],
   "source": [
    "import pandas as pd\n",
    "import folium\n",
    "import glob as glob\n",
    "import preprocess as pre\n",
    "import numpy as np\n",
    "import io\n",
    "from PIL import Image\n",
    "import math as m\n",
    "\n",
    "# GEOLIFE TESTS\n",
    "gpsHeader = ['Latitude', 'Longitude', 'Zero', 'Altitude', 'Num of Days', 'Date', 'Time']\n",
    "\n",
    "# MDC TESTS\n",
    "#gpsHeader = ['Index', 'UID', 'Date', 'Time', 'Longitude', 'Latitude']"
   ]
  },
  {
   "cell_type": "code",
   "execution_count": 2,
   "metadata": {},
   "outputs": [],
   "source": [
    "# ONE FILE\n",
    "pathToFile = '/home/jeffmur/data/geoLife/user_by_month/000/2008_12.csv'\n",
    "df = pd.read_csv(pathToFile, names=gpsHeader)\n"
   ]
  },
  {
   "cell_type": "code",
   "execution_count": 2,
   "metadata": {},
   "outputs": [],
   "source": [
    "# WHOLE DIRECTORY\n",
    "\n",
    "pathToDir = '/home/jeffmur/data/geoLife/user_by_month/000/'\n",
    "glob = glob.glob(pathToDir+'*')\n",
    "\n",
    "df = pd.concat([pd.read_csv(f, names=gpsHeader) for f in glob]) #, header=gpsHeader)"
   ]
  },
  {
   "cell_type": "code",
   "execution_count": 3,
   "metadata": {},
   "outputs": [
    {
     "output_type": "stream",
     "name": "stdout",
     "text": [
      "    Latitude   Longitude  Zero  Altitude   Num of Days        Date      Time\n0  39.998611  116.323661     0       492  39783.471146  2008-12-01  11:18:27\n1  39.998715  116.323732     0       492  39783.471204  2008-12-01  11:18:32\n2  39.998738  116.323743     0       492  39783.471262  2008-12-01  11:18:37\n3  39.998780  116.323763     0       492  39783.471319  2008-12-01  11:18:42\n4  39.998814  116.323828     0       492  39783.471377  2008-12-01  11:18:47\n"
     ]
    }
   ],
   "source": [
    "## Bounding Box to save time\n",
    "bb = pre.fetchGeoLocation('Beijing, China')\n",
    "df = pre.dropOutlyingData(df, bb)\n",
    "\n",
    "print(df.head())"
   ]
  },
  {
   "cell_type": "code",
   "execution_count": 4,
   "metadata": {
    "tags": []
   },
   "outputs": [],
   "source": [
    "# time = df[['Time']].to_numpy()\n",
    "df = df[['Latitude','Longitude']] # change to your column names, assume the columns are sorted by time\n",
    "points = [tuple(x) for x in df.to_numpy()]\n",
    "\n",
    "# for i in range(0, len(points)):\n",
    "#     x = points[i]\n",
    "#     a = float(f'{float(f\"{x[0]:.4g}\"):g}')\n",
    "#     b = float(f'{float(f\"{x[1]:.10g}\"):g}')\n",
    "#     points[i] = (a, b)\n",
    "\n",
    "ave_lat = sum(p[0] for p in points)/len(points)\n",
    "ave_lon = sum(p[1] for p in points)/len(points)\n",
    "\n",
    "# Load map centred on average coordinates\n",
    "my_map = folium.Map(location=[ave_lat, ave_lon], zoom_start=14)"
   ]
  },
  {
   "cell_type": "code",
   "execution_count": 5,
   "metadata": {
    "tags": []
   },
   "outputs": [
    {
     "output_type": "stream",
     "name": "stdout",
     "text": [
      "30\n1539\nUnique Tally Values\n[2 3]\nMost Frequent Location\n(40.009102, 116.32139199999999)\n"
     ]
    }
   ],
   "source": [
    "tally = {}\n",
    "\n",
    "for key in points:\n",
    "    # Check for duplicates\n",
    "    count = points.count(key)\n",
    "    if(count > 1):\n",
    "        # Add 1 to existing key, otherwise set to 1\n",
    "        tally[key] = tally.setdefault(key, 0) + 1\n",
    "    \n",
    "print(len(tally))\n",
    "uniqueTuples = np.unique(points, axis=0)\n",
    "print(len(uniqueTuples))\n",
    "\n",
    "mostFreqLocation = max(tally, key=tally.get)\n",
    "print('Unique Tally Values')\n",
    "print(np.unique(list(tally.values())))\n",
    "print('Most Frequent Location')\n",
    "print(mostFreqLocation)"
   ]
  },
  {
   "cell_type": "code",
   "execution_count": 6,
   "metadata": {
    "tags": []
   },
   "outputs": [
    {
     "output_type": "execute_result",
     "data": {
      "text/plain": [
       "<folium.map.Marker at 0x7fb08409a710>"
      ]
     },
     "metadata": {},
     "execution_count": 6
    }
   ],
   "source": [
    "maxTally = max(tally.values())\n",
    "minTally = min(tally.values())\n",
    "\n",
    "for key in tally.keys():\n",
    "    folium.CircleMarker(key, radius= m.log(tally[key], maxTally), color='red').add_to(my_map)\n",
    "\n",
    "folium.Marker(mostFreqLocation).add_to(my_map)"
   ]
  },
  {
   "cell_type": "code",
   "execution_count": 7,
   "metadata": {},
   "outputs": [],
   "source": [
    "my_map.save(\"./poi.html\")"
   ]
  },
  {
   "cell_type": "code",
   "execution_count": 14,
   "metadata": {},
   "outputs": [
    {
     "output_type": "stream",
     "name": "stdout",
     "text": [
      "{(40.00786, 116.32041299999999): 2, (40.007366, 116.319551): 2, (40.00765, 116.319359): 2, (40.009102, 116.32139199999999): 6, (40.009127, 116.32143500000001): 2, (40.007506, 116.319703): 2, (40.009059, 116.321354): 2, (40.009087, 116.321125): 2, (40.009192, 116.321): 2, (40.009196, 116.320975): 2, (40.009434999999996, 116.320394): 2, (40.009415000000004, 116.320416): 2, (40.009165, 116.321049): 2, (40.009194, 116.321036): 2, (40.007302, 116.319603): 2, (40.008998999999996, 116.321238): 2, (40.008973, 116.321271): 2, (40.00897, 116.32125): 2, (40.008977, 116.321234): 2, (40.008163, 116.3226): 2, (40.008177, 116.32258600000002): 2, (40.008189, 116.32258600000002): 2, (40.008176, 116.322604): 2, (40.008165999999996, 116.322624): 2, (40.00861, 116.321583): 2, (40.00906, 116.321281): 2, (39.999813, 116.322005): 2, (39.997035, 116.31571799999999): 2, (39.997116999999996, 116.31589699999999): 2, (40.009032, 116.32154799999999): 2}\n"
     ]
    }
   ],
   "source": [
    "tally = {}\n",
    "#add a markers\n",
    "for i in range(0, len(points)):  \n",
    "    folium.CircleMarker(points[i], radius=0.5, color='red').add_to(my_map)\n",
    "    for j in range(0, len(points)):\n",
    "        if(i != j and points[i] == points[j]):\n",
    "            key = points[i]\n",
    "            tally[key] = tally.setdefault(key, 0) + 1\n",
    "\n",
    "for key in tally.keys():\n",
    "    folium.Marker(key).add_to(my_map)\n",
    "#add lines\n",
    "# folium.PolyLine(points, color=\"red\", weight=2.5, opacity=1).add_to(my_map)\n",
    "print(tally)\n",
    "# Save map\n",
    "my_map.save(\"./out.html\")"
   ]
  },
  {
   "cell_type": "code",
   "execution_count": 15,
   "metadata": {},
   "outputs": [
    {
     "output_type": "stream",
     "name": "stdout",
     "text": [
      "dict_values([2, 2, 2, 6, 2, 2, 2, 2, 2, 2, 2, 2, 2, 2, 2, 2, 2, 2, 2, 2, 2, 2, 2, 2, 2, 2, 2, 2, 2, 2])\n(40.009102, 116.32139199999999)\n"
     ]
    }
   ],
   "source": [
    "mostFreqLocation = max(tally, key=tally.get)\n",
    "print(tally.values())\n",
    "print(mostFreqLocation)"
   ]
  },
  {
   "cell_type": "code",
   "execution_count": 21,
   "metadata": {},
   "outputs": [
    {
     "output_type": "stream",
     "name": "stdout",
     "text": [
      "1\n"
     ]
    }
   ],
   "source": [
    "print(len(tally))"
   ]
  },
  {
   "cell_type": "code",
   "execution_count": 14,
   "metadata": {},
   "outputs": [
    {
     "output_type": "stream",
     "name": "stdout",
     "text": [
      "3627\n"
     ]
    }
   ],
   "source": [
    "print(len(time))"
   ]
  }
 ]
}