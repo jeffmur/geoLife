{
 "metadata": {
  "language_info": {
   "codemirror_mode": {
    "name": "ipython",
    "version": 3
   },
   "file_extension": ".py",
   "mimetype": "text/x-python",
   "name": "python",
   "nbconvert_exporter": "python",
   "pygments_lexer": "ipython3",
   "version": "3.9.2"
  },
  "orig_nbformat": 2,
  "kernelspec": {
   "name": "python392jvsc74a57bd0936f40543526e12afb543b7bcb3ab899a7ee56b0d60aa11e0295e866c25f4427",
   "display_name": "Python 3.9.2 64-bit ('geo': conda)"
  },
  "metadata": {
   "interpreter": {
    "hash": "577502a30860445dcd5fe37fd39a5ae72a19870a55c1d33193e70959eb06419d"
   }
  }
 },
 "nbformat": 4,
 "nbformat_minor": 2,
 "cells": [
  {
   "source": [
    "import imageCompare as ic "
   ],
   "cell_type": "code",
   "metadata": {},
   "execution_count": 1,
   "outputs": []
  },
  {
   "cell_type": "code",
   "execution_count": 3,
   "metadata": {},
   "outputs": [],
   "source": [
    "df, img = ic.createSSIMimage('/home/jeffmur/data/geoLife/gps_0.186411_all')\n",
    "img.save('ssim-300m.png')"
   ]
  },
  {
   "cell_type": "code",
   "execution_count": 4,
   "metadata": {},
   "outputs": [
    {
     "output_type": "stream",
     "name": "stdout",
     "text": [
      "0.7657305232259316\n0.16294839231887112\n"
     ]
    }
   ],
   "source": [
    "print(df.values.mean())\n",
    "print(df.values.std())"
   ]
  },
  {
   "cell_type": "code",
   "execution_count": null,
   "metadata": {},
   "outputs": [],
   "source": []
  },
  {
   "cell_type": "code",
   "execution_count": 5,
   "metadata": {},
   "outputs": [],
   "source": [
    "img = ic.createMSEimage('/home/jeffmur/data/geoLife/gps_0.186411_all')\n",
    "img.save('mse-300m.png')"
   ]
  },
  {
   "cell_type": "code",
   "execution_count": 8,
   "metadata": {},
   "outputs": [
    {
     "output_type": "stream",
     "name": "stdout",
     "text": [
      " /data/jeffmur/mdcdOut/gps_0.186411_month/5448/2009_10.png\n"
     ]
    }
   ],
   "source": [
    "uidMap = pd.read_csv('image_list.txt', names=['UID', 'month'])\n",
    "\n",
    "oneFile = uidMap.to_numpy()\n",
    "print(oneFile[0])"
   ]
  },
  {
   "cell_type": "code",
   "execution_count": 9,
   "metadata": {},
   "outputs": [
    {
     "output_type": "execute_result",
     "data": {
      "text/plain": [
       "['39.4416113', '41.0595584', '115.4172086', '117.5079852']"
      ]
     },
     "metadata": {},
     "execution_count": 9
    }
   ],
   "source": [
    "pre.fetchGeoLocation('Beijing, China')\n",
    "\n",
    "\n",
    "\n",
    "# load a Numpy array of (latitude, longitude) pairs\n",
    "locations = gmaps.datasets.load_dataset(\"taxi_rides\")\n",
    "\n",
    "fig = gmaps.figure()\n",
    "fig.add_layer(gmaps.heatmap_layer(locations))\n",
    "fig"
   ]
  },
  {
   "source": [
    "[39.7350200, 40.1073889, 116.1644800, 116.6597843]"
   ],
   "cell_type": "markdown",
   "metadata": {}
  }
 ]
}