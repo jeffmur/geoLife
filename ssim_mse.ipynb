{
 "metadata": {
  "language_info": {
   "codemirror_mode": {
    "name": "ipython",
    "version": 3
   },
   "file_extension": ".py",
   "mimetype": "text/x-python",
   "name": "python",
   "nbconvert_exporter": "python",
   "pygments_lexer": "ipython3",
   "version": "3.9.6"
  },
  "orig_nbformat": 2,
  "kernelspec": {
   "name": "python3",
   "display_name": "Python 3.9.6 64-bit ('mobility': conda)"
  },
  "metadata": {
   "interpreter": {
    "hash": "577502a30860445dcd5fe37fd39a5ae72a19870a55c1d33193e70959eb06419d"
   }
  },
  "interpreter": {
   "hash": "d0087587e188cd7639e37164b772fbe460820ab34bd46fe7018f67e01a7cfbb5"
  }
 },
 "nbformat": 4,
 "nbformat_minor": 2,
 "cells": [
  {
   "cell_type": "code",
   "execution_count": 1,
   "source": [
    "from src import config as c\n",
    "from src import imageCompare as ic \n",
    "cell_sizes = [100, 300, 500, 700, 900]"
   ],
   "outputs": [],
   "metadata": {}
  },
  {
   "cell_type": "markdown",
   "source": [
    "# Resized SSIM Calcuation\n",
    "Based on Scikit-image (structural_similarity)"
   ],
   "metadata": {}
  },
  {
   "cell_type": "code",
   "execution_count": 2,
   "source": [
    "for size in cell_sizes:\n",
    "    print(f\"On {size}m\")\n",
    "    df, img = ic.createSSIMimage(f\"{c.DATA_OUTPUT_DIR}resized_{size}_all\")\n",
    "    img.save(f'ssim-{size}m.png')\n",
    "    print(df.values.mean())\n",
    "    print(df.values.std())  "
   ],
   "outputs": [
    {
     "output_type": "stream",
     "name": "stdout",
     "text": [
      "On 100m\n",
      "0.6341500880172275\n",
      "0.25857904186535285\n",
      "On 300m\n",
      "0.3767019016716351\n",
      "0.25250937988538924\n",
      "On 500m\n",
      "0.2933453484587516\n",
      "0.22676848687609596\n",
      "On 700m\n",
      "0.2542200007792833\n",
      "0.20924243389959657\n",
      "On 900m\n",
      "0.23342127500835055\n",
      "0.1994799430147719\n"
     ]
    }
   ],
   "metadata": {}
  },
  {
   "cell_type": "markdown",
   "source": [
    "# GPS (not resized) SSIM calculation\n",
    "Based on Scikit-image (strucutral_similarity)"
   ],
   "metadata": {}
  },
  {
   "cell_type": "code",
   "execution_count": 15,
   "source": [
    "for size in cell_sizes:\n",
    "    print(f\"On {size}m\")\n",
    "    df, img = ic.createSSIMimage(f\"{c.DATA_OUTPUT_DIR}gps_{size}_all\")\n",
    "    img.save(f'ssim-gps-{size}m.png')\n",
    "    print(df.values.mean())\n",
    "    print(df.values.std())  "
   ],
   "outputs": [
    {
     "output_type": "stream",
     "name": "stdout",
     "text": [
      "On 100m\n",
      "0.9073156765510444\n",
      "0.08057706320363747\n",
      "On 300m\n",
      "0.7657305232259358\n",
      "0.16294839231887145\n",
      "On 500m\n",
      "0.6574091879121284\n",
      "0.20336009606590408\n",
      "On 700m\n",
      "0.5676589241334464\n",
      "0.2201850544573518\n",
      "On 900m\n",
      "0.4879545086047807\n",
      "0.22573142425716577\n"
     ]
    }
   ],
   "metadata": {}
  },
  {
   "cell_type": "code",
   "execution_count": 6,
   "source": [
    "img = ic.createMSEimage(f\"{c.DATA_OUTPUT_DIR}resized_{c.CELL_SIZE}_all\")\n",
    "img.save('mse-300m.png')"
   ],
   "outputs": [
    {
     "output_type": "stream",
     "name": "stderr",
     "text": [
      "/media/jeffmur/School/dev/geoLife/src/imageCompare.py:132: PerformanceWarning: DataFrame is highly fragmented.  This is usually the result of calling `frame.insert` many times, which has poor performance.  Consider using pd.concat instead.  To get a de-fragmented frame, use `newframe = frame.copy()`\n",
      "  df[i] = temp\n"
     ]
    }
   ],
   "metadata": {}
  }
 ]
}