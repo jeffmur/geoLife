{
 "metadata": {
  "language_info": {
   "codemirror_mode": {
    "name": "ipython",
    "version": 3
   },
   "file_extension": ".py",
   "mimetype": "text/x-python",
   "name": "python",
   "nbconvert_exporter": "python",
   "pygments_lexer": "ipython3",
   "version": "3.8.5"
  },
  "orig_nbformat": 2,
  "kernelspec": {
   "name": "python385jvsc74a57bd0ebad84a979d51e1d48f45661d0864a4f35e885a4c50cdc77b70dc3c98155b0f3",
   "display_name": "Python 3.8.5  ('venv': venv)"
  },
  "metadata": {
   "interpreter": {
    "hash": "ebad84a979d51e1d48f45661d0864a4f35e885a4c50cdc77b70dc3c98155b0f3"
   }
  }
 },
 "nbformat": 4,
 "nbformat_minor": 2,
 "cells": [
  {
   "cell_type": "code",
   "execution_count": 1,
   "metadata": {},
   "outputs": [
    {
     "output_type": "stream",
     "name": "stdout",
     "text": [
      "/home/jeffmur/dev/GeoLife_MDC/2021.04.06_results/GeoLife/centralized/runs/train_7_clusters_gamma_0.1/00100/clustering_output/tensors.tsv\n"
     ]
    }
   ],
   "source": [
    "# REQUIRES API KEY in .env file \n",
    "import gmaps\n",
    "import pandas as pd\n",
    "import gmapHelper as h\n",
    "import config as c\n",
    "import numpy as np \n",
    "\n",
    "pathToCluster = c.TO_CLUSTER_TSV\n",
    "print(pathToCluster)"
   ]
  },
  {
   "cell_type": "code",
   "execution_count": 2,
   "metadata": {},
   "outputs": [],
   "source": [
    "tsvFile = np.loadtxt(pathToCluster)\n",
    "\n",
    "indexToCluster = tsvFile.argmax(1)\n",
    "\n",
    "indexToCluster = np.array(indexToCluster)"
   ]
  },
  {
   "cell_type": "code",
   "execution_count": 3,
   "metadata": {},
   "outputs": [
    {
     "output_type": "stream",
     "name": "stdout",
     "text": [
      "[0 0 1 1 3 5 5 5 5 5 5 6 6 6 6 3 6 5 5 5 5 5 5 3 5 5 5 5 5 5 5 5 5 3 5 5 5\n 0 5 0 0 1 1 3 5 1 0 5 5 5 5 0 1 5 0 1 3 1 1 1 1 1 1 3 1 3 3 3 3 3 3 5 6 3\n 5 5 1 5 5 0 0 5 5 0 0 4 1 2 2 2 2 2 2 2 0 5 0 3 1 5 5 5 1 2 2 2 3 2 2 2 2\n 3 3 3 3 3 1 0 1 0 1 1 1 1 5 5 5 0 0 5 1 1 1 0 6 3 3 6 5 0 5 5 5 5 5 5 0 5\n 5 5 0 0 5 5 5 3 3 3 5 5 5 3 5 5 5 4 1 0 1 1 4 4 3 3 3 5 5 5 5 5 0 3 0 3 3\n 3 3 5 0 1 5 0 5 5 5 5 0 1 0 1 1 3 3 3 3 3 3 0 0 0 1 3 3 3 1 1 0 5 6 5 5 0\n 5 6 1 1 1 4 1 1 1 1 1 5 3 1 0 6 1 1 1 0 1 1 5 5 4 0 0 5 1 1 1 1 1 1 1 1 1\n 0 1 1 0 0 1 0 1 0 1 1 1 0 5 5 5 3 3 5 5 5 5 6 1 1 1 5 1 1 1 1 0 1 5 5 0 6\n 6 1 1 1 1 1 1 1 0 1 6 0 0 6 4 2 4 4 4 4 4 4 4 2 2 2 4 1 0 0 0 1 0 1 1 1 5\n 1 1 1 1 1 1 1 1 0 0 1 1 1 1 1 1 1 0 1 0 1 0 0 3 3 1 1 5 5 0 1 1 1 1 1 0 1\n 6 0 0 1 1 1 0 5 2 3 5 4 0 1 3 3 1 6 2 5 1 1 5 5 6 3 3 3 3 6 1 5 5 6 0 6 0\n 1 1 1 1 6 3 0 2 1 1 1 0 1 1 1 1 1 1 0 1 0 1 0 1 0 1 1 1 1 0 1 1 0 1 1 1 0\n 0 0 5 5 1 1 1 1 1 1 1 1 1 1 1 0 1 1 1 1 1 1 1 1 0 1 1 0 5 1 5 1 1 0 1 0 1\n 1 0 5 5 0 1 1 0 1 1 1 1 0 1 0 0 1 1 1 1 1 0 1 0 5 0 0 4 4 1 0 0 1 1 1 2 2\n 2 4 0 4 1 1 1 1 6 6 6 1 1 1 0 1 1 0 4 1 1 1 6 5 5 5 0 5 1 0 2 5 4 4 5 5 5\n 2 2 0 1 0 0 1 1 1 1 4 2 0 4 4 5 4 2 5 4 5 4 5 4 2 2 2 4 2 4 2 4 0 4 4 4 4\n 4 4 0 5 0 0 0 1 0 0 0 6 4 5 0 2 0 2 1 1 1 1 1 1 1 1 1 1 1 1 1 1 1 0 0 0 1\n 1 0 0 1 0 1 1 4 4 4 1 1 4 4 4 4 2 2 4 4 4 1 5 5 1 1 1 1 0 1 5 0 0 5 1 1 0\n 1 0 2 0 0 4 4 2 4 2 4 4 4 6 4 4 4 2 1 1 1 1 1 0 5 0 5 1 1 1 1 0 1 0 1 0 4\n 0 0 6 4 6 2 6 6 6 6 6 4 2 2 2 6 2 3 2 4 2 2 2 2 2 2 2 2 2 4 2 2 2 2 2 2 2\n 2 4 2 2 2 2 2 2 4 2 2 4 1 1 4 1 6 1 1 1 1 1 1 1 1 1 1 1 1 1 1 1 1 1 1 1 0\n 1 5 2 0 0 1 1 6 1 1 6 4 2 2 4 2 2 4 2 4 2 2 2 4 6 2 0 4 2 2 2 2 2 2 2 2 2\n 2 1 1 1 5 1 1 0 5 2 5 4 2 5 5 5 2 0 0 1 1 0 2 3 4 2 4 1 1 1 1 1 1 1 1 1 1\n 0 1 1 1 1 1 1 1 1 1 1 1 1 5 0 5 5 1 1 1 1 1 1]\n"
     ]
    }
   ],
   "source": [
    "# One month test\n",
    "uidMap = pd.read_csv('image_list.txt', names=['UID', 'month'])\n",
    "\n",
    "print(indexToCluster)"
   ]
  },
  {
   "cell_type": "code",
   "execution_count": 4,
   "metadata": {},
   "outputs": [],
   "source": [
    "dictOfClusters = h.mapClustersToUID(indexToCluster)"
   ]
  },
  {
   "source": [
    "# HOLD FOR EACH CLUSTER PLOTTING"
   ],
   "cell_type": "markdown",
   "metadata": {}
  },
  {
   "cell_type": "code",
   "execution_count": 5,
   "metadata": {},
   "outputs": [
    {
     "output_type": "stream",
     "name": "stdout",
     "text": [
      "Number of months in cluster: 145\n"
     ]
    },
    {
     "output_type": "display_data",
     "data": {
      "text/plain": "Figure(layout=FigureLayout(height='420px'))",
      "application/vnd.jupyter.widget-view+json": {
       "version_major": 2,
       "version_minor": 0,
       "model_id": "1a07ee1fcd94406bb5e1e77219ef6f4b"
      }
     },
     "metadata": {}
    }
   ],
   "source": [
    "h.plotCluster(0, uidMap, dictOfClusters)"
   ]
  },
  {
   "cell_type": "code",
   "execution_count": 6,
   "metadata": {},
   "outputs": [
    {
     "output_type": "stream",
     "name": "stdout",
     "text": [
      "Number of months in cluster: 313\n"
     ]
    },
    {
     "output_type": "display_data",
     "data": {
      "text/plain": "Figure(layout=FigureLayout(height='420px'))",
      "application/vnd.jupyter.widget-view+json": {
       "version_major": 2,
       "version_minor": 0,
       "model_id": "24d0672b7ce84a3f84ed533730914c96"
      }
     },
     "metadata": {}
    }
   ],
   "source": [
    "h.plotCluster(1, uidMap, dictOfClusters)"
   ]
  },
  {
   "cell_type": "code",
   "execution_count": 7,
   "metadata": {},
   "outputs": [
    {
     "output_type": "stream",
     "name": "stdout",
     "text": [
      "Number of months in cluster: 98\n"
     ]
    },
    {
     "output_type": "display_data",
     "data": {
      "text/plain": "Figure(layout=FigureLayout(height='420px'))",
      "application/vnd.jupyter.widget-view+json": {
       "version_major": 2,
       "version_minor": 0,
       "model_id": "6cf1d1b331bf43449d17dc8a47f2c30b"
      }
     },
     "metadata": {}
    }
   ],
   "source": [
    "h.plotCluster(2, uidMap, dictOfClusters)"
   ]
  },
  {
   "cell_type": "code",
   "execution_count": 8,
   "metadata": {},
   "outputs": [
    {
     "output_type": "stream",
     "name": "stdout",
     "text": [
      "Number of months in cluster: 59\n"
     ]
    },
    {
     "output_type": "display_data",
     "data": {
      "text/plain": "Figure(layout=FigureLayout(height='420px'))",
      "application/vnd.jupyter.widget-view+json": {
       "version_major": 2,
       "version_minor": 0,
       "model_id": "45ec58e9837f471fbc588aacc9b1f3c9"
      }
     },
     "metadata": {}
    }
   ],
   "source": [
    "h.plotCluster(3, uidMap, dictOfClusters)"
   ]
  },
  {
   "cell_type": "code",
   "execution_count": 9,
   "metadata": {},
   "outputs": [
    {
     "output_type": "stream",
     "name": "stdout",
     "text": [
      "Number of months in cluster: 77\n"
     ]
    },
    {
     "output_type": "display_data",
     "data": {
      "text/plain": "Figure(layout=FigureLayout(height='420px'))",
      "application/vnd.jupyter.widget-view+json": {
       "version_major": 2,
       "version_minor": 0,
       "model_id": "bb02507abf44415ea65b214a772ce26d"
      }
     },
     "metadata": {}
    }
   ],
   "source": [
    "h.plotCluster(4, uidMap, dictOfClusters)"
   ]
  },
  {
   "cell_type": "code",
   "execution_count": 12,
   "metadata": {},
   "outputs": [
    {
     "output_type": "stream",
     "name": "stdout",
     "text": [
      "Number of months in cluster: 141\n"
     ]
    },
    {
     "output_type": "display_data",
     "data": {
      "text/plain": "Figure(layout=FigureLayout(height='420px'))",
      "application/vnd.jupyter.widget-view+json": {
       "version_major": 2,
       "version_minor": 0,
       "model_id": "5319a9d44fff49af9b2e48558b3b34d6"
      }
     },
     "metadata": {}
    }
   ],
   "source": [
    "h.plotCluster(5, uidMap, dictOfClusters)"
   ]
  },
  {
   "cell_type": "code",
   "execution_count": 10,
   "metadata": {},
   "outputs": [
    {
     "output_type": "stream",
     "name": "stdout",
     "text": [
      "Number of months in cluster: 41\n"
     ]
    },
    {
     "output_type": "display_data",
     "data": {
      "text/plain": "Figure(layout=FigureLayout(height='420px'))",
      "application/vnd.jupyter.widget-view+json": {
       "version_major": 2,
       "version_minor": 0,
       "model_id": "4f2bef07021948ada1468fafcde1387e"
      }
     },
     "metadata": {}
    }
   ],
   "source": [
    "h.plotCluster(6, uidMap, dictOfClusters)"
   ]
  },
  {
   "cell_type": "code",
   "execution_count": null,
   "metadata": {
    "tags": []
   },
   "outputs": [],
   "source": [
    "tally = h.mostFreqTally(points)"
   ]
  },
  {
   "cell_type": "code",
   "execution_count": null,
   "metadata": {},
   "outputs": [],
   "source": [
    "import numpy as np\n",
    "\n",
    "v = [float(x) for x in tally.values()]\n",
    "\n",
    "np.average(v)"
   ]
  }
 ]
}